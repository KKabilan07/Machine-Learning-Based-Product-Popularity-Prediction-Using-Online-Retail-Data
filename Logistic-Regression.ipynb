{
 "cells": [
  {
   "cell_type": "markdown",
   "id": "b8b245db",
   "metadata": {},
   "source": [
    "#  Product Popularity Prediction using Logistic Regression\n",
    "\n",
    "This notebook predicts whether a product is **Popular** or **Not Popular** based on the Online Retail dataset.\n",
    "\n",
    "We will:\n",
    "1. Clean and preprocess the raw retail transaction data.\n",
    "2. Aggregate sales data at the **product level**.\n",
    "3. Create a popularity label using the **median quantity sold** as threshold.\n",
    "4. Train a **Logistic Regression model**.\n",
    "5. Evaluate the model and visualize results.\n",
    "6. Build a function to predict popularity for any product description.\n"
   ]
  },
  {
   "cell_type": "code",
   "execution_count": 37,
   "id": "d0b497c5",
   "metadata": {},
   "outputs": [],
   "source": [
    "# Step 1: Import libraries\n",
    "import pandas as pd\n",
    "import numpy as np\n",
    "import matplotlib.pyplot as plt\n",
    "import seaborn as sns\n",
    "\n",
    "from sklearn.model_selection import train_test_split\n",
    "from sklearn.preprocessing import StandardScaler\n",
    "from sklearn.linear_model import LogisticRegression\n",
    "from sklearn.metrics import accuracy_score, precision_score, recall_score, f1_score, confusion_matrix, classification_report\n"
   ]
  },
  {
   "cell_type": "markdown",
   "id": "d3645273",
   "metadata": {},
   "source": [
    "## Load Dataset\n",
    "\n",
    "We use the **Online Retail dataset** from the UCI Machine Learning Repository.  \n",
    "The dataset contains transactions between Dec 2010 – Dec 2011 for a UK-based online retailer.\n"
   ]
  },
  {
   "cell_type": "code",
   "execution_count": 38,
   "id": "40dc53ff",
   "metadata": {},
   "outputs": [
    {
     "name": "stdout",
     "output_type": "stream",
     "text": [
      "(541909, 8)\n"
     ]
    },
    {
     "data": {
      "text/html": [
       "<div>\n",
       "<style scoped>\n",
       "    .dataframe tbody tr th:only-of-type {\n",
       "        vertical-align: middle;\n",
       "    }\n",
       "\n",
       "    .dataframe tbody tr th {\n",
       "        vertical-align: top;\n",
       "    }\n",
       "\n",
       "    .dataframe thead th {\n",
       "        text-align: right;\n",
       "    }\n",
       "</style>\n",
       "<table border=\"1\" class=\"dataframe\">\n",
       "  <thead>\n",
       "    <tr style=\"text-align: right;\">\n",
       "      <th></th>\n",
       "      <th>InvoiceNo</th>\n",
       "      <th>StockCode</th>\n",
       "      <th>Description</th>\n",
       "      <th>Quantity</th>\n",
       "      <th>InvoiceDate</th>\n",
       "      <th>UnitPrice</th>\n",
       "      <th>CustomerID</th>\n",
       "      <th>Country</th>\n",
       "    </tr>\n",
       "  </thead>\n",
       "  <tbody>\n",
       "    <tr>\n",
       "      <th>0</th>\n",
       "      <td>536365</td>\n",
       "      <td>85123A</td>\n",
       "      <td>WHITE HANGING HEART T-LIGHT HOLDER</td>\n",
       "      <td>6</td>\n",
       "      <td>01-12-2010 08:26</td>\n",
       "      <td>2.55</td>\n",
       "      <td>17850.0</td>\n",
       "      <td>United Kingdom</td>\n",
       "    </tr>\n",
       "    <tr>\n",
       "      <th>1</th>\n",
       "      <td>536365</td>\n",
       "      <td>71053</td>\n",
       "      <td>WHITE METAL LANTERN</td>\n",
       "      <td>6</td>\n",
       "      <td>01-12-2010 08:26</td>\n",
       "      <td>3.39</td>\n",
       "      <td>17850.0</td>\n",
       "      <td>United Kingdom</td>\n",
       "    </tr>\n",
       "    <tr>\n",
       "      <th>2</th>\n",
       "      <td>536365</td>\n",
       "      <td>84406B</td>\n",
       "      <td>CREAM CUPID HEARTS COAT HANGER</td>\n",
       "      <td>8</td>\n",
       "      <td>01-12-2010 08:26</td>\n",
       "      <td>2.75</td>\n",
       "      <td>17850.0</td>\n",
       "      <td>United Kingdom</td>\n",
       "    </tr>\n",
       "    <tr>\n",
       "      <th>3</th>\n",
       "      <td>536365</td>\n",
       "      <td>84029G</td>\n",
       "      <td>KNITTED UNION FLAG HOT WATER BOTTLE</td>\n",
       "      <td>6</td>\n",
       "      <td>01-12-2010 08:26</td>\n",
       "      <td>3.39</td>\n",
       "      <td>17850.0</td>\n",
       "      <td>United Kingdom</td>\n",
       "    </tr>\n",
       "    <tr>\n",
       "      <th>4</th>\n",
       "      <td>536365</td>\n",
       "      <td>84029E</td>\n",
       "      <td>RED WOOLLY HOTTIE WHITE HEART.</td>\n",
       "      <td>6</td>\n",
       "      <td>01-12-2010 08:26</td>\n",
       "      <td>3.39</td>\n",
       "      <td>17850.0</td>\n",
       "      <td>United Kingdom</td>\n",
       "    </tr>\n",
       "  </tbody>\n",
       "</table>\n",
       "</div>"
      ],
      "text/plain": [
       "  InvoiceNo StockCode                          Description  Quantity  \\\n",
       "0    536365    85123A   WHITE HANGING HEART T-LIGHT HOLDER         6   \n",
       "1    536365     71053                  WHITE METAL LANTERN         6   \n",
       "2    536365    84406B       CREAM CUPID HEARTS COAT HANGER         8   \n",
       "3    536365    84029G  KNITTED UNION FLAG HOT WATER BOTTLE         6   \n",
       "4    536365    84029E       RED WOOLLY HOTTIE WHITE HEART.         6   \n",
       "\n",
       "        InvoiceDate  UnitPrice  CustomerID         Country  \n",
       "0  01-12-2010 08:26       2.55     17850.0  United Kingdom  \n",
       "1  01-12-2010 08:26       3.39     17850.0  United Kingdom  \n",
       "2  01-12-2010 08:26       2.75     17850.0  United Kingdom  \n",
       "3  01-12-2010 08:26       3.39     17850.0  United Kingdom  \n",
       "4  01-12-2010 08:26       3.39     17850.0  United Kingdom  "
      ]
     },
     "execution_count": 38,
     "metadata": {},
     "output_type": "execute_result"
    }
   ],
   "source": [
    "# Step 2: Load dataset\n",
    "# Download from https://archive.ics.uci.edu/dataset/352/online+retail\n",
    "df = pd.read_csv(r\"D:\\Desktop\\Sem_3\\Python\\Online Retail.csv\")\n",
    "\n",
    "print(df.shape)\n",
    "df.head()"
   ]
  },
  {
   "cell_type": "markdown",
   "id": "1ecaaa4b",
   "metadata": {},
   "source": [
    "## Data Cleaning\n",
    "\n",
    "We perform the following:\n",
    "- Remove missing values.\n",
    "- Remove cancelled orders (InvoiceNo starting with \"C\").\n",
    "- Remove rows with negative or zero `Quantity` or `UnitPrice`.\n",
    "\n",
    "This ensures our dataset only contains valid purchases.\n"
   ]
  },
  {
   "cell_type": "code",
   "execution_count": 39,
   "id": "79d259b5",
   "metadata": {},
   "outputs": [
    {
     "name": "stdout",
     "output_type": "stream",
     "text": [
      "Remaining rows: (397884, 8)\n"
     ]
    }
   ],
   "source": [
    "# Step 3: Data Cleaning\n",
    "# Remove missing values\n",
    "df = df.dropna()\n",
    "\n",
    "# Remove cancellations (InvoiceNo starting with 'C')\n",
    "df = df[~df['InvoiceNo'].astype(str).str.startswith('C')]\n",
    "\n",
    "# Remove negative/zero quantities and prices\n",
    "df = df[(df['Quantity'] > 0) & (df['UnitPrice'] > 0)]\n",
    "\n",
    "print(\"Remaining rows:\", df.shape)\n"
   ]
  },
  {
   "cell_type": "markdown",
   "id": "32c996cc",
   "metadata": {},
   "source": [
    "## Feature Engineering & Labeling\n",
    "\n",
    "We aggregate transactions **at the product level** using `StockCode` and `Description`.\n",
    "\n",
    "For each product, we calculate:\n",
    "- `Total_Quantity`: total units sold\n",
    "- `Num_Transactions`: number of unique invoices\n",
    "- `Avg_UnitPrice`: average selling price\n",
    "- `Num_Customers`: number of unique customers\n",
    "- `Revenue = Total_Quantity × Avg_UnitPrice`\n",
    "\n",
    "### Popularity Label\n",
    "We define **Popular** products as those with `Total_Quantity` above the median across all products.  \n",
    "This gives us a labeled dataset with `Popular = 1` (popular) or `0` (not popular).\n"
   ]
  },
  {
   "cell_type": "markdown",
   "id": "28ef9e92",
   "metadata": {},
   "source": [
    "## Feature Selection & Train/Test Split\n",
    "\n",
    "We select numerical features to train our model:\n",
    "- `Total_Quantity`\n",
    "- `Num_Transactions`\n",
    "- `Num_Customers`\n",
    "- `Revenue`\n",
    "- (optionally `Avg_UnitPrice`)\n",
    "\n",
    "We then split the dataset into **70% training** and **30% testing**.\n"
   ]
  },
  {
   "cell_type": "code",
   "execution_count": 40,
   "id": "9ef2f091",
   "metadata": {},
   "outputs": [
    {
     "name": "stdout",
     "output_type": "stream",
     "text": [
      "Labeled dataset saved as 'aggregated_products.csv' with 3897 products\n"
     ]
    }
   ],
   "source": [
    "# Step 4: Feature Engineering (Aggregate at product level with Description)\n",
    "product_df = df.groupby(['StockCode', 'Description']).agg({\n",
    "    'Quantity': 'sum',\n",
    "    'InvoiceNo': 'nunique',\n",
    "    'UnitPrice': 'mean',\n",
    "    'CustomerID': 'nunique'\n",
    "}).reset_index()\n",
    "\n",
    "product_df.rename(columns={\n",
    "    'Quantity': 'Total_Quantity',\n",
    "    'InvoiceNo': 'Num_Transactions',\n",
    "    'UnitPrice': 'Avg_UnitPrice',\n",
    "    'CustomerID': 'Num_Customers'\n",
    "}, inplace=True)\n",
    "\n",
    "# Add Revenue\n",
    "product_df['Revenue'] = product_df['Total_Quantity'] * product_df['Avg_UnitPrice']\n",
    "\n",
    "# Calculate popularity threshold (median)\n",
    "median_quantity = product_df['Total_Quantity'].median()\n",
    "\n",
    "# Add Popularity label (1 = popular, 0 = not popular)\n",
    "product_df['Popular'] = (product_df['Total_Quantity'] > median_quantity).astype(int)\n",
    "\n",
    "# Save labeled dataset\n",
    "product_df.to_csv(\"aggregated_products.csv\", index=False)\n",
    "print(\"Labeled dataset saved as 'aggregated_products.csv' with\", product_df.shape[0], \"products\")\n"
   ]
  },
  {
   "cell_type": "code",
   "execution_count": 41,
   "id": "ca95243b",
   "metadata": {},
   "outputs": [
    {
     "data": {
      "text/html": [
       "<div>\n",
       "<style scoped>\n",
       "    .dataframe tbody tr th:only-of-type {\n",
       "        vertical-align: middle;\n",
       "    }\n",
       "\n",
       "    .dataframe tbody tr th {\n",
       "        vertical-align: top;\n",
       "    }\n",
       "\n",
       "    .dataframe thead th {\n",
       "        text-align: right;\n",
       "    }\n",
       "</style>\n",
       "<table border=\"1\" class=\"dataframe\">\n",
       "  <thead>\n",
       "    <tr style=\"text-align: right;\">\n",
       "      <th></th>\n",
       "      <th>StockCode</th>\n",
       "      <th>Description</th>\n",
       "      <th>Total_Quantity</th>\n",
       "      <th>Num_Transactions</th>\n",
       "      <th>Avg_UnitPrice</th>\n",
       "      <th>Num_Customers</th>\n",
       "      <th>Revenue</th>\n",
       "      <th>Popular</th>\n",
       "    </tr>\n",
       "  </thead>\n",
       "  <tbody>\n",
       "    <tr>\n",
       "      <th>0</th>\n",
       "      <td>10002</td>\n",
       "      <td>INFLATABLE POLITICAL GLOBE</td>\n",
       "      <td>823</td>\n",
       "      <td>49</td>\n",
       "      <td>0.850000</td>\n",
       "      <td>40</td>\n",
       "      <td>699.550000</td>\n",
       "      <td>1</td>\n",
       "    </tr>\n",
       "    <tr>\n",
       "      <th>1</th>\n",
       "      <td>10080</td>\n",
       "      <td>GROOVY CACTUS INFLATABLE</td>\n",
       "      <td>291</td>\n",
       "      <td>21</td>\n",
       "      <td>0.411905</td>\n",
       "      <td>19</td>\n",
       "      <td>119.864286</td>\n",
       "      <td>0</td>\n",
       "    </tr>\n",
       "    <tr>\n",
       "      <th>2</th>\n",
       "      <td>10120</td>\n",
       "      <td>DOGGY RUBBER</td>\n",
       "      <td>193</td>\n",
       "      <td>29</td>\n",
       "      <td>0.210000</td>\n",
       "      <td>25</td>\n",
       "      <td>40.530000</td>\n",
       "      <td>0</td>\n",
       "    </tr>\n",
       "    <tr>\n",
       "      <th>3</th>\n",
       "      <td>10123C</td>\n",
       "      <td>HEARTS WRAPPING TAPE</td>\n",
       "      <td>5</td>\n",
       "      <td>3</td>\n",
       "      <td>0.650000</td>\n",
       "      <td>3</td>\n",
       "      <td>3.250000</td>\n",
       "      <td>0</td>\n",
       "    </tr>\n",
       "    <tr>\n",
       "      <th>4</th>\n",
       "      <td>10124A</td>\n",
       "      <td>SPOTS ON RED BOOKCOVER TAPE</td>\n",
       "      <td>16</td>\n",
       "      <td>5</td>\n",
       "      <td>0.420000</td>\n",
       "      <td>5</td>\n",
       "      <td>6.720000</td>\n",
       "      <td>0</td>\n",
       "    </tr>\n",
       "  </tbody>\n",
       "</table>\n",
       "</div>"
      ],
      "text/plain": [
       "  StockCode                  Description  Total_Quantity  Num_Transactions  \\\n",
       "0     10002  INFLATABLE POLITICAL GLOBE              823                49   \n",
       "1     10080     GROOVY CACTUS INFLATABLE             291                21   \n",
       "2     10120                 DOGGY RUBBER             193                29   \n",
       "3    10123C        HEARTS WRAPPING TAPE                5                 3   \n",
       "4    10124A  SPOTS ON RED BOOKCOVER TAPE              16                 5   \n",
       "\n",
       "   Avg_UnitPrice  Num_Customers     Revenue  Popular  \n",
       "0       0.850000             40  699.550000        1  \n",
       "1       0.411905             19  119.864286        0  \n",
       "2       0.210000             25   40.530000        0  \n",
       "3       0.650000              3    3.250000        0  \n",
       "4       0.420000              5    6.720000        0  "
      ]
     },
     "execution_count": 41,
     "metadata": {},
     "output_type": "execute_result"
    }
   ],
   "source": [
    "product_df.head()"
   ]
  },
  {
   "cell_type": "markdown",
   "id": "310b3cde",
   "metadata": {},
   "source": [
    "#### Median is calculated based on Quantity "
   ]
  },
  {
   "cell_type": "code",
   "execution_count": 42,
   "id": "580e2c75",
   "metadata": {},
   "outputs": [
    {
     "name": "stdout",
     "output_type": "stream",
     "text": [
      "Median quantity sold: 340.0\n"
     ]
    }
   ],
   "source": [
    "median_quantity = product_df['Total_Quantity'].median()\n",
    "print(\"Median quantity sold:\", median_quantity)\n"
   ]
  },
  {
   "cell_type": "code",
   "execution_count": 43,
   "id": "56f1e479",
   "metadata": {},
   "outputs": [],
   "source": [
    "# Step 5: Feature Selection\n",
    "X = product_df[['Total_Quantity', 'Num_Transactions', 'Num_Customers', 'Revenue']]\n",
    "y = product_df['Popular']\n",
    "\n",
    "# Scale features\n",
    "scaler = StandardScaler()\n",
    "X_scaled = scaler.fit_transform(X)"
   ]
  },
  {
   "cell_type": "code",
   "execution_count": 44,
   "id": "d1735d33",
   "metadata": {},
   "outputs": [
    {
     "name": "stdout",
     "output_type": "stream",
     "text": [
      "Train size: (2727, 4)\n",
      "Test size: (1170, 4)\n"
     ]
    }
   ],
   "source": [
    "# Step 6: Train-Test Split\n",
    "X_train, X_test, y_train, y_test = train_test_split(X_scaled, y, test_size=0.3, random_state=42, stratify=y)\n",
    "\n",
    "print(\"Train size:\", X_train.shape)\n",
    "print(\"Test size:\", X_test.shape)"
   ]
  },
  {
   "cell_type": "markdown",
   "id": "72f4f76e",
   "metadata": {},
   "source": [
    "## Logistic Regression Model\n",
    "\n",
    "We train a **Logistic Regression classifier** to predict whether a product is popular.  \n",
    "This model outputs a probability between 0 and 1, which we interpret as **confidence**.\n"
   ]
  },
  {
   "cell_type": "code",
   "execution_count": 45,
   "id": "c5cef83c",
   "metadata": {},
   "outputs": [],
   "source": [
    "# Step 7: Logistic Regression Model\n",
    "log_reg = LogisticRegression(max_iter=500, random_state=42)\n",
    "log_reg.fit(X_train, y_train)\n",
    "\n",
    "y_pred = log_reg.predict(X_test)"
   ]
  },
  {
   "cell_type": "markdown",
   "id": "1f29d743",
   "metadata": {},
   "source": [
    "## Model Evaluation\n",
    "\n",
    "We evaluate our model using:\n",
    "- Accuracy\n",
    "- Precision\n",
    "- Recall\n",
    "- F1-Score\n",
    "\n",
    "We also visualize the **confusion matrix** to see how well the model distinguishes popular vs not popular products.\n"
   ]
  },
  {
   "cell_type": "code",
   "execution_count": 46,
   "id": "f8ae04bc",
   "metadata": {},
   "outputs": [
    {
     "name": "stdout",
     "output_type": "stream",
     "text": [
      "Accuracy: 0.9367521367521368\n",
      "Precision: 0.9704797047970479\n",
      "Recall: 0.9006849315068494\n",
      "F1 Score: 0.9342806394316163\n",
      "\n",
      "Classification Report:\n",
      "               precision    recall  f1-score   support\n",
      "\n",
      "           0       0.91      0.97      0.94       586\n",
      "           1       0.97      0.90      0.93       584\n",
      "\n",
      "    accuracy                           0.94      1170\n",
      "   macro avg       0.94      0.94      0.94      1170\n",
      "weighted avg       0.94      0.94      0.94      1170\n",
      "\n"
     ]
    },
    {
     "data": {
      "image/png": "[encoded data removed]",
      "text/plain": [
       "<Figure size 640x480 with 2 Axes>"
      ]
     },
     "metadata": {},
     "output_type": "display_data"
    }
   ],
   "source": [
    "# Step 8: Evaluation\n",
    "print(\"Accuracy:\", accuracy_score(y_test, y_pred))\n",
    "print(\"Precision:\", precision_score(y_test, y_pred))\n",
    "print(\"Recall:\", recall_score(y_test, y_pred))\n",
    "print(\"F1 Score:\", f1_score(y_test, y_pred))\n",
    "\n",
    "print(\"\\nClassification Report:\\n\", classification_report(y_test, y_pred))\n",
    "\n",
    "# Confusion Matrix Visualization\n",
    "cm = confusion_matrix(y_test, y_pred)\n",
    "sns.heatmap(cm, annot=True, fmt='d', cmap='Blues', xticklabels=['Not Popular','Popular'], yticklabels=['Not Popular','Popular'])\n",
    "plt.title(\"Confusion Matrix - Logistic Regression\")\n",
    "plt.xlabel(\"Predicted\")\n",
    "plt.ylabel(\"Actual\")\n",
    "plt.show()"
   ]
  },
  {
   "cell_type": "markdown",
   "id": "7ee9a9e3",
   "metadata": {},
   "source": [
    "##  Feature Importance\n",
    "\n",
    "We examine the coefficients of Logistic Regression to understand which features contribute most to popularity.\n",
    "\n",
    "-  coefficient → increases chance of being **Popular**\n",
    "\n"
   ]
  },
  {
   "cell_type": "code",
   "execution_count": 47,
   "id": "f7320b0f",
   "metadata": {},
   "outputs": [
    {
     "name": "stderr",
     "output_type": "stream",
     "text": [
      "C:\\Users\\HP\\AppData\\Local\\Temp\\ipykernel_4560\\2445314158.py:7: FutureWarning: \n",
      "\n",
      "Passing `palette` without assigning `hue` is deprecated and will be removed in v0.14.0. Assign the `y` variable to `hue` and set `legend=False` for the same effect.\n",
      "\n",
      "  sns.barplot(data=importance, x='Coefficient', y='Feature', palette='viridis')\n"
     ]
    },
    {
     "data": {
      "image/png": "[encoded data removed]",
      "text/plain": [
       "<Figure size 640x480 with 1 Axes>"
      ]
     },
     "metadata": {},
     "output_type": "display_data"
    }
   ],
   "source": [
    "# Step 9: Feature Importance (Coefficients)\n",
    "importance = pd.DataFrame({\n",
    "    'Feature': ['Total_Quantity', 'Num_Transactions', 'Num_Customers', 'Revenue'],\n",
    "    'Coefficient': log_reg.coef_[0]\n",
    "}).sort_values(by='Coefficient', ascending=False)\n",
    "\n",
    "sns.barplot(data=importance, x='Coefficient', y='Feature', palette='viridis')\n",
    "plt.title(\"Logistic Regression - Feature Importance\")\n",
    "plt.show()"
   ]
  },
  {
   "cell_type": "markdown",
   "id": "bccee11f",
   "metadata": {},
   "source": [
    "##  Predict Popularity for a Given Product\n",
    "\n",
    "We build a helper function `product_to_predict(description)`:\n",
    "\n",
    "- Input: A product description (typed manually)\n",
    "- Output: Whether the product is **Popular** or **Not Popular**, along with the model’s confidence.\n",
    "\n",
    "This makes the system interactive, allowing us to query product popularity in real time.\n"
   ]
  },
  {
   "cell_type": "code",
   "execution_count": 48,
   "id": "ed657cf8",
   "metadata": {},
   "outputs": [
    {
     "name": "stdout",
     "output_type": "stream",
     "text": [
      " Product: DOGGY RUBBER\n",
      " StockCode: 10120\n",
      " Prediction: Not Popular  (Confidence: 0.86)\n"
     ]
    },
    {
     "data": {
      "text/plain": [
       "0"
      ]
     },
     "execution_count": 48,
     "metadata": {},
     "output_type": "execute_result"
    }
   ],
   "source": [
    "# Step 10: Function to predict popularity of a product by Description\n",
    "def product_to_predict(description, product_df, model, scaler):\n",
    "    # Search product by description (case-insensitive match)\n",
    "    row = product_df[product_df['Description'].str.lower() == description.lower()]\n",
    "    \n",
    "    if row.empty:\n",
    "        print(f\" Product '{description}' not found in dataset.\")\n",
    "        return None\n",
    "    \n",
    "    # Extract feature values\n",
    "    X_new = row[['Total_Quantity', 'Num_Transactions', 'Num_Customers', 'Revenue']]\n",
    "    \n",
    "    # Scale features\n",
    "    X_new_scaled = scaler.transform(X_new)\n",
    "    \n",
    "    # Predict with trained model\n",
    "    pred = model.predict(X_new_scaled)[0]\n",
    "    proba = model.predict_proba(X_new_scaled)[0][pred]\n",
    "    \n",
    "    # Map prediction\n",
    "    label = \"Popular \" if pred == 1 else \"Not Popular \"\n",
    "    \n",
    "    print(f\" Product: {row['Description'].values[0]}\")\n",
    "    print(f\" StockCode: {row['StockCode'].values[0]}\")\n",
    "    print(f\" Prediction: {label} (Confidence: {proba:.2f})\")\n",
    "    \n",
    "    return pred\n",
    "Des = input(\"Enter the description of the product: \")\n",
    "product_to_predict(Des, product_df, log_reg, scaler)\n"
   ]
  }
 ],
 "metadata": {
  "kernelspec": {
   "display_name": "base",
   "language": "python",
   "name": "python3"
  },
  "language_info": {
   "codemirror_mode": {
    "name": "ipython",
    "version": 3
   },
   "file_extension": ".py",
   "mimetype": "text/x-python",
   "name": "python",
   "nbconvert_exporter": "python",
   "pygments_lexer": "ipython3",
   "version": "3.12.7"
  }
 },
 "nbformat": 4,
 "nbformat_minor": 5
}
